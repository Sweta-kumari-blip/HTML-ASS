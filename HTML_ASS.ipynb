{
  "nbformat": 4,
  "nbformat_minor": 0,
  "metadata": {
    "colab": {
      "provenance": []
    },
    "kernelspec": {
      "name": "python3",
      "display_name": "Python 3"
    },
    "language_info": {
      "name": "python"
    }
  },
  "cells": [
    {
      "cell_type": "markdown",
      "source": [],
      "metadata": {
        "id": "kR8CQf3dSFzg"
      }
    },
    {
      "cell_type": "markdown",
      "source": [
        "# html\n",
        "\n",
        "1. Ravi wants to leave a note in his HTML file so that only other developers can see it, not the users on the website. How should he do this? Why are such notes useful?\n",
        "\n",
        "   - Ravi can use comments to write notes in the file/code , that will be visible to only developers not to the user.\n",
        "There are two types of comments on  is single line comment and another  one is multiple lines comments .\n",
        "Syntax for single line comments = <!—notes -->\n",
        "\n",
        "      Syntax for multiple line comments=\n",
        "<!— ………..…………………………………………………………………………………………………………………………………………………………………………………………………………… -->\n",
        "Comments are very important and plays a vital role, with the help of comments developers can explain the code to others, If one developers is not able to understand a particular coding section then comments can be used to explain the code.\n",
        "\n",
        "2. You’re building a small personal profile page. Which HTML tags will you use to highlight your name as a heading, describe yourself in a paragraph, and emphasize a key skill?\n",
        "   - I will use heading tag to highlight my name. There are 6 types of heading tags are based on the importance of heading are as follows;\n",
        "   h1\n",
        "   h2\n",
        "   h3\n",
        "   h4\n",
        "   h5\n",
        "   h6\n",
        "\n",
        "   H6 is for smalle heading , after h6, h5 is used for small heading ,h5 text will be a bit large then the h6 tag , afer  the h5 the h4 and so on.\n",
        "   \n",
        "   The above mentioned tags are the different types of heading tags we used, there is only one difference in these tags that is text size. h1 is for large heading , h2 is for large  heading after h1 and so on. H6 will show the heading text in the small size as compared to all other  heading  tags.\n",
        "\n",
        "   Now, I will use paragraph tag to describe myself in a paragraph.\n",
        "\n",
        "   Now, I will use emphasize tag to emphasize my skill.\n",
        "\n",
        "\n",
        "\n",
        "\n",
        "-"
      ],
      "metadata": {
        "id": "ky40FJAiU0N7"
      }
    },
    {
      "cell_type": "code",
      "source": [
        "# #1 Question 1 : Explain the basic structure of an HTML page. Why is it important to follow this structure?\n",
        "                 -Ans- The following is the basic HTML structure;\n",
        "                   <!DOCTYPE html>\n",
        "                      <html>\n",
        "                     <head>\n",
        "              <title></title>\n",
        "                </head>\n",
        "            <body> (main content that will make website)\n",
        "              </body>\n",
        "           </html>\n",
        "\n",
        "      #1.The above-written code/structure is the basic structure. The html basic structure start with 1<!DOCTYPE> it tell us the version of html ,html5.\n",
        "       #2.Now the main or we can say the root of the website or  html page start with the <html> tag and end with the </html> .\n",
        "       #3. Between the start and end of the html tag , there are two more tags one is  the <head> tag which start with <head> and end with </head> and another one is body tag which is most important as all the main work will be done in the body tag and it start with <body> and end with </body>.\n",
        "       #4.The body tag plays a vital role in web developing the web page  as all the content that will be visible to user on the website will be written within the body tag with the help of some tags, attributes and elements.\n",
        "       #5. The body provide information about the the website such as tittle of the website, we can say it contain metadata( data about the website).\n",
        "\n",
        "       #It is very important to follow the of basic structure html If we do not follow the basic structure then , it might be possible that we will not get our desired output or even  did not get any output, also the browser will understand easily , if we use  basic html structure. Also, the code are cleared and clean we can easily edit the code.\"\"\"\n",
        "\n",
        "\n",
        "\n",
        "  # 3: Look at the code below. Can you find and fix the mistake?\n",
        "\n",
        "         <!-- This is an HTML comment\n",
        "         <h1>Welcome to my website</h1>\n",
        "\n",
        "          Correct one-\n",
        "        <!-- This is an HTML comment-->\n",
        "        <h1>Welcome to my website</h1>\n",
        "\n",
        "\n",
        "\n",
        "# 7: Here’s a form snippet. Can you spot the error and rewrite the correct version?\n",
        "<!DOCTYPE>\n",
        "<html>\n",
        "<head>\n",
        "<title> Documents</title>\n",
        "</head>\n",
        "<body>\n",
        "<form>\n",
        "<input type =\"email\">\n",
        "<select>\n",
        "<option>India</option>\n",
        "</select>\n",
        "<button>Send</button>\n",
        "</form>\n",
        "\n",
        "#5. Write short HTML code to show your favorite fruits in a bulleted list and your top 3 programming languages in a numbered list.\n",
        "<!DOCTYPE>\n",
        "<html>\n",
        "<head>\n",
        "<title> Documents</title>\n",
        "</head>\n",
        "<body>\n",
        "    <body>\n",
        "\n",
        "<ul>\n",
        "    <li>Mango</li>\n",
        "    <li>Guava</li>\n",
        "    <li>Banana</li>\n",
        "</ul>\n",
        "<ol>\n",
        "    <li>HTML</li>\n",
        "    <li>CSS</li>\n",
        "    <li>JAVA</li>\n",
        "\n",
        "\n",
        "</ol>\n",
        "</body>\n",
        "</body>\n",
        "</html>\n",
        "\n",
        "#4: You’re creating a form that asks the user to enter their name, select their country from a list, and click a button to submit. Write the HTML code for this.\n",
        "<!DOCTYPE>\n",
        "<html>\n",
        "<head>\n",
        "<tittle> Documents</title>\n",
        "</head>\n",
        "<body>\n",
        "    <form>\n",
        "        Enter your name <input type=\"text\"><br>\n",
        "        Select the country\n",
        "        <select>\n",
        "            <option>India</option>\n",
        "            <option>China</option>\n",
        "            </select><br>\n",
        "        <button type=\"submit\">Submit</button>\n",
        "    </form>\n",
        "</body>\n",
        "</html>\n",
        "\n"
      ],
      "metadata": {
        "id": "gaxl9QhYfutv"
      },
      "execution_count": null,
      "outputs": []
    },
    {
      "cell_type": "code",
      "source": [],
      "metadata": {
        "id": "rAM0kG3LRu8M"
      },
      "execution_count": null,
      "outputs": []
    },
    {
      "cell_type": "markdown",
      "source": [],
      "metadata": {
        "id": "bXSfDKSpNraH"
      }
    },
    {
      "cell_type": "markdown",
      "source": [],
      "metadata": {
        "id": "lgb6ykC0Pmdv"
      }
    },
    {
      "cell_type": "markdown",
      "source": [
        "\n",
        "\n"
      ],
      "metadata": {
        "id": "Mi5_UGuqA86Q"
      }
    },
    {
      "cell_type": "markdown",
      "source": [],
      "metadata": {
        "id": "jZI8pntxPlS4"
      }
    },
    {
      "cell_type": "markdown",
      "source": [
        "\n",
        "asss\n",
        "\n"
      ],
      "metadata": {
        "id": "9qNjhTkkBO0v"
      }
    }
  ]
}